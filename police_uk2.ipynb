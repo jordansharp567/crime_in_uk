{
 "cells": [
  {
   "cell_type": "code",
   "execution_count": 2,
   "id": "c6cd5204",
   "metadata": {
    "scrolled": true
   },
   "outputs": [
    {
     "name": "stderr",
     "output_type": "stream",
     "text": [
      "C:\\ProgramData\\Anaconda3\\lib\\site-packages\\pandas\\core\\computation\\expressions.py:21: UserWarning: Pandas requires version '2.8.4' or newer of 'numexpr' (version '2.8.1' currently installed).\n",
      "  from pandas.core.computation.check import NUMEXPR_INSTALLED\n",
      "C:\\ProgramData\\Anaconda3\\lib\\site-packages\\pandas\\core\\arrays\\masked.py:60: UserWarning: Pandas requires version '1.3.6' or newer of 'bottleneck' (version '1.3.4' currently installed).\n",
      "  from pandas.core import (\n",
      "C:\\ProgramData\\Anaconda3\\lib\\site-packages\\scipy\\__init__.py:146: UserWarning: A NumPy version >=1.16.5 and <1.23.0 is required for this version of SciPy (detected version 1.26.4\n",
      "  warnings.warn(f\"A NumPy version >={np_minversion} and <{np_maxversion}\"\n"
     ]
    }
   ],
   "source": [
    "# modules\n",
    "import pandas as pd\n",
    "import dask.dataframe as dd\n",
    "import seaborn as sns\n",
    "import numpy as np\n",
    "import hashlib\n",
    "from datetime import datetime\n",
    "import concurrent.futures\n",
    "import pyarrow.parquet as pq\n",
    "from sqlalchemy import create_engine"
   ]
  },
  {
   "cell_type": "code",
   "execution_count": 2,
   "id": "10f14a25",
   "metadata": {},
   "outputs": [],
   "source": [
    "# Read in Data\n",
    "outcomes = dd.read_csv(r'C:\\Users\\jorda\\Desktop\\portfolio_projects\\data_sets\\uk_crime\\outcomes_df.csv')\n",
    "street = dd.read_csv(r'C:\\Users\\jorda\\Desktop\\portfolio_projects\\data_sets\\uk_crime\\street_df.csv')"
   ]
  },
  {
   "cell_type": "code",
   "execution_count": 3,
   "id": "8545d13b",
   "metadata": {
    "scrolled": true
   },
   "outputs": [
    {
     "data": {
      "text/html": [
       "<div>\n",
       "<style scoped>\n",
       "    .dataframe tbody tr th:only-of-type {\n",
       "        vertical-align: middle;\n",
       "    }\n",
       "\n",
       "    .dataframe tbody tr th {\n",
       "        vertical-align: top;\n",
       "    }\n",
       "\n",
       "    .dataframe thead th {\n",
       "        text-align: right;\n",
       "    }\n",
       "</style>\n",
       "<table border=\"1\" class=\"dataframe\">\n",
       "  <thead>\n",
       "    <tr style=\"text-align: right;\">\n",
       "      <th></th>\n",
       "      <th>Crime ID</th>\n",
       "      <th>Month</th>\n",
       "      <th>Reported by</th>\n",
       "      <th>Falls within</th>\n",
       "      <th>Longitude</th>\n",
       "      <th>Latitude</th>\n",
       "      <th>Location</th>\n",
       "      <th>LSOA code</th>\n",
       "      <th>LSOA name</th>\n",
       "      <th>Outcome type</th>\n",
       "    </tr>\n",
       "  </thead>\n",
       "  <tbody>\n",
       "    <tr>\n",
       "      <th>0</th>\n",
       "      <td>10370d0a9ab7e145cba38285d0538c52a21f5ffffba798...</td>\n",
       "      <td>2014-01</td>\n",
       "      <td>Avon and Somerset Constabulary</td>\n",
       "      <td>Avon and Somerset Constabulary</td>\n",
       "      <td>-2.978521</td>\n",
       "      <td>51.346122</td>\n",
       "      <td>On or near OXFORD STREET</td>\n",
       "      <td>E01014801</td>\n",
       "      <td>North Somerset 020C</td>\n",
       "      <td>Suspect charged</td>\n",
       "    </tr>\n",
       "    <tr>\n",
       "      <th>1</th>\n",
       "      <td>10370d0a9ab7e145cba38285d0538c52a21f5ffffba798...</td>\n",
       "      <td>2014-01</td>\n",
       "      <td>Avon and Somerset Constabulary</td>\n",
       "      <td>Avon and Somerset Constabulary</td>\n",
       "      <td>-2.978521</td>\n",
       "      <td>51.346122</td>\n",
       "      <td>On or near OXFORD STREET</td>\n",
       "      <td>E01014801</td>\n",
       "      <td>North Somerset 020C</td>\n",
       "      <td>Suspect charged</td>\n",
       "    </tr>\n",
       "    <tr>\n",
       "      <th>2</th>\n",
       "      <td>10370d0a9ab7e145cba38285d0538c52a21f5ffffba798...</td>\n",
       "      <td>2014-01</td>\n",
       "      <td>Avon and Somerset Constabulary</td>\n",
       "      <td>Avon and Somerset Constabulary</td>\n",
       "      <td>-2.978521</td>\n",
       "      <td>51.346122</td>\n",
       "      <td>On or near OXFORD STREET</td>\n",
       "      <td>E01014801</td>\n",
       "      <td>North Somerset 020C</td>\n",
       "      <td>Suspect charged</td>\n",
       "    </tr>\n",
       "    <tr>\n",
       "      <th>3</th>\n",
       "      <td>0ab8300cb6542d05e8b99823a21c2d98c8199620c3a35c...</td>\n",
       "      <td>2014-01</td>\n",
       "      <td>Avon and Somerset Constabulary</td>\n",
       "      <td>Avon and Somerset Constabulary</td>\n",
       "      <td>-3.003506</td>\n",
       "      <td>51.136259</td>\n",
       "      <td>On or near WARREN CLOSE</td>\n",
       "      <td>E01029110</td>\n",
       "      <td>Sedgemoor 009C</td>\n",
       "      <td>Suspect charged</td>\n",
       "    </tr>\n",
       "    <tr>\n",
       "      <th>4</th>\n",
       "      <td>2c55cf066bde8fbfa2f21ca6e5463fa7c471cc30847da9...</td>\n",
       "      <td>2014-01</td>\n",
       "      <td>Avon and Somerset Constabulary</td>\n",
       "      <td>Avon and Somerset Constabulary</td>\n",
       "      <td>-2.530484</td>\n",
       "      <td>51.481025</td>\n",
       "      <td>On or near GUINEA LANE</td>\n",
       "      <td>E01014588</td>\n",
       "      <td>Bristol 013A</td>\n",
       "      <td>Suspect charged</td>\n",
       "    </tr>\n",
       "  </tbody>\n",
       "</table>\n",
       "</div>"
      ],
      "text/plain": [
       "                                            Crime ID    Month  \\\n",
       "0  10370d0a9ab7e145cba38285d0538c52a21f5ffffba798...  2014-01   \n",
       "1  10370d0a9ab7e145cba38285d0538c52a21f5ffffba798...  2014-01   \n",
       "2  10370d0a9ab7e145cba38285d0538c52a21f5ffffba798...  2014-01   \n",
       "3  0ab8300cb6542d05e8b99823a21c2d98c8199620c3a35c...  2014-01   \n",
       "4  2c55cf066bde8fbfa2f21ca6e5463fa7c471cc30847da9...  2014-01   \n",
       "\n",
       "                      Reported by                    Falls within  Longitude  \\\n",
       "0  Avon and Somerset Constabulary  Avon and Somerset Constabulary  -2.978521   \n",
       "1  Avon and Somerset Constabulary  Avon and Somerset Constabulary  -2.978521   \n",
       "2  Avon and Somerset Constabulary  Avon and Somerset Constabulary  -2.978521   \n",
       "3  Avon and Somerset Constabulary  Avon and Somerset Constabulary  -3.003506   \n",
       "4  Avon and Somerset Constabulary  Avon and Somerset Constabulary  -2.530484   \n",
       "\n",
       "    Latitude                  Location  LSOA code            LSOA name  \\\n",
       "0  51.346122  On or near OXFORD STREET  E01014801  North Somerset 020C   \n",
       "1  51.346122  On or near OXFORD STREET  E01014801  North Somerset 020C   \n",
       "2  51.346122  On or near OXFORD STREET  E01014801  North Somerset 020C   \n",
       "3  51.136259   On or near WARREN CLOSE  E01029110       Sedgemoor 009C   \n",
       "4  51.481025    On or near GUINEA LANE  E01014588         Bristol 013A   \n",
       "\n",
       "      Outcome type  \n",
       "0  Suspect charged  \n",
       "1  Suspect charged  \n",
       "2  Suspect charged  \n",
       "3  Suspect charged  \n",
       "4  Suspect charged  "
      ]
     },
     "execution_count": 3,
     "metadata": {},
     "output_type": "execute_result"
    }
   ],
   "source": [
    "# Data Exploration\n",
    "outcomes.head()"
   ]
  },
  {
   "cell_type": "code",
   "execution_count": 4,
   "id": "6ccdb88c",
   "metadata": {
    "scrolled": true
   },
   "outputs": [
    {
     "data": {
      "text/html": [
       "<div>\n",
       "<style scoped>\n",
       "    .dataframe tbody tr th:only-of-type {\n",
       "        vertical-align: middle;\n",
       "    }\n",
       "\n",
       "    .dataframe tbody tr th {\n",
       "        vertical-align: top;\n",
       "    }\n",
       "\n",
       "    .dataframe thead th {\n",
       "        text-align: right;\n",
       "    }\n",
       "</style>\n",
       "<table border=\"1\" class=\"dataframe\">\n",
       "  <thead>\n",
       "    <tr style=\"text-align: right;\">\n",
       "      <th></th>\n",
       "      <th>Crime ID</th>\n",
       "      <th>Month</th>\n",
       "      <th>Reported by</th>\n",
       "      <th>Falls within</th>\n",
       "      <th>Longitude</th>\n",
       "      <th>Latitude</th>\n",
       "      <th>Location</th>\n",
       "      <th>LSOA code</th>\n",
       "      <th>LSOA name</th>\n",
       "      <th>Crime type</th>\n",
       "      <th>Last outcome category</th>\n",
       "      <th>Context</th>\n",
       "    </tr>\n",
       "  </thead>\n",
       "  <tbody>\n",
       "    <tr>\n",
       "      <th>0</th>\n",
       "      <td>NaN</td>\n",
       "      <td>2014-01</td>\n",
       "      <td>Avon and Somerset Constabulary</td>\n",
       "      <td>Avon and Somerset Constabulary</td>\n",
       "      <td>-2.516919</td>\n",
       "      <td>51.423683</td>\n",
       "      <td>On or near A4175</td>\n",
       "      <td>E01014399</td>\n",
       "      <td>Bath and North East Somerset 001A</td>\n",
       "      <td>Anti-social behaviour</td>\n",
       "      <td>NaN</td>\n",
       "      <td>NaN</td>\n",
       "    </tr>\n",
       "    <tr>\n",
       "      <th>1</th>\n",
       "      <td>NaN</td>\n",
       "      <td>2014-01</td>\n",
       "      <td>Avon and Somerset Constabulary</td>\n",
       "      <td>Avon and Somerset Constabulary</td>\n",
       "      <td>-2.509126</td>\n",
       "      <td>51.416137</td>\n",
       "      <td>On or near St Francis Road</td>\n",
       "      <td>E01014399</td>\n",
       "      <td>Bath and North East Somerset 001A</td>\n",
       "      <td>Anti-social behaviour</td>\n",
       "      <td>NaN</td>\n",
       "      <td>NaN</td>\n",
       "    </tr>\n",
       "    <tr>\n",
       "      <th>2</th>\n",
       "      <td>NaN</td>\n",
       "      <td>2014-01</td>\n",
       "      <td>Avon and Somerset Constabulary</td>\n",
       "      <td>Avon and Somerset Constabulary</td>\n",
       "      <td>-2.509126</td>\n",
       "      <td>51.416137</td>\n",
       "      <td>On or near St Francis Road</td>\n",
       "      <td>E01014399</td>\n",
       "      <td>Bath and North East Somerset 001A</td>\n",
       "      <td>Anti-social behaviour</td>\n",
       "      <td>NaN</td>\n",
       "      <td>NaN</td>\n",
       "    </tr>\n",
       "    <tr>\n",
       "      <th>3</th>\n",
       "      <td>035b3b13d4c1561d3f7470a512b98d40a9c3287de9ba6e...</td>\n",
       "      <td>2014-01</td>\n",
       "      <td>Avon and Somerset Constabulary</td>\n",
       "      <td>Avon and Somerset Constabulary</td>\n",
       "      <td>-2.509126</td>\n",
       "      <td>51.416137</td>\n",
       "      <td>On or near St Francis Road</td>\n",
       "      <td>E01014399</td>\n",
       "      <td>Bath and North East Somerset 001A</td>\n",
       "      <td>Other theft</td>\n",
       "      <td>Investigation complete; no suspect identified</td>\n",
       "      <td>NaN</td>\n",
       "    </tr>\n",
       "    <tr>\n",
       "      <th>4</th>\n",
       "      <td>c79b016170f909fbb4b1d4fb9be27ad878c0ddf72ceea2...</td>\n",
       "      <td>2014-01</td>\n",
       "      <td>Avon and Somerset Constabulary</td>\n",
       "      <td>Avon and Somerset Constabulary</td>\n",
       "      <td>-2.516919</td>\n",
       "      <td>51.423683</td>\n",
       "      <td>On or near A4175</td>\n",
       "      <td>E01014399</td>\n",
       "      <td>Bath and North East Somerset 001A</td>\n",
       "      <td>Violence and sexual offences</td>\n",
       "      <td>Investigation complete; no suspect identified</td>\n",
       "      <td>NaN</td>\n",
       "    </tr>\n",
       "  </tbody>\n",
       "</table>\n",
       "</div>"
      ],
      "text/plain": [
       "                                            Crime ID    Month  \\\n",
       "0                                                NaN  2014-01   \n",
       "1                                                NaN  2014-01   \n",
       "2                                                NaN  2014-01   \n",
       "3  035b3b13d4c1561d3f7470a512b98d40a9c3287de9ba6e...  2014-01   \n",
       "4  c79b016170f909fbb4b1d4fb9be27ad878c0ddf72ceea2...  2014-01   \n",
       "\n",
       "                      Reported by                    Falls within  Longitude  \\\n",
       "0  Avon and Somerset Constabulary  Avon and Somerset Constabulary  -2.516919   \n",
       "1  Avon and Somerset Constabulary  Avon and Somerset Constabulary  -2.509126   \n",
       "2  Avon and Somerset Constabulary  Avon and Somerset Constabulary  -2.509126   \n",
       "3  Avon and Somerset Constabulary  Avon and Somerset Constabulary  -2.509126   \n",
       "4  Avon and Somerset Constabulary  Avon and Somerset Constabulary  -2.516919   \n",
       "\n",
       "    Latitude                    Location  LSOA code  \\\n",
       "0  51.423683            On or near A4175  E01014399   \n",
       "1  51.416137  On or near St Francis Road  E01014399   \n",
       "2  51.416137  On or near St Francis Road  E01014399   \n",
       "3  51.416137  On or near St Francis Road  E01014399   \n",
       "4  51.423683            On or near A4175  E01014399   \n",
       "\n",
       "                           LSOA name                    Crime type  \\\n",
       "0  Bath and North East Somerset 001A         Anti-social behaviour   \n",
       "1  Bath and North East Somerset 001A         Anti-social behaviour   \n",
       "2  Bath and North East Somerset 001A         Anti-social behaviour   \n",
       "3  Bath and North East Somerset 001A                   Other theft   \n",
       "4  Bath and North East Somerset 001A  Violence and sexual offences   \n",
       "\n",
       "                           Last outcome category  Context  \n",
       "0                                            NaN      NaN  \n",
       "1                                            NaN      NaN  \n",
       "2                                            NaN      NaN  \n",
       "3  Investigation complete; no suspect identified      NaN  \n",
       "4  Investigation complete; no suspect identified      NaN  "
      ]
     },
     "execution_count": 4,
     "metadata": {},
     "output_type": "execute_result"
    }
   ],
   "source": [
    "street.head()"
   ]
  },
  {
   "cell_type": "code",
   "execution_count": 5,
   "id": "a579a315",
   "metadata": {
    "scrolled": false
   },
   "outputs": [
    {
     "name": "stdout",
     "output_type": "stream",
     "text": [
      "Total values in Outcomes:\n",
      "Crime ID        46231550\n",
      "Month           46231550\n",
      "Reported by     46231550\n",
      "Falls within    46231550\n",
      "Longitude       45261612\n",
      "Latitude        45261612\n",
      "Location        46231550\n",
      "LSOA code       45261433\n",
      "LSOA name       45261433\n",
      "Outcome type    46231550\n",
      "dtype: int64\n",
      "\n",
      "Missing values in Outcomes:\n",
      "Crime ID             0\n",
      "Month                0\n",
      "Reported by          0\n",
      "Falls within         0\n",
      "Longitude       969938\n",
      "Latitude        969938\n",
      "Location             0\n",
      "LSOA code       970117\n",
      "LSOA name       970117\n",
      "Outcome type         0\n",
      "dtype: int64\n",
      "\n",
      "Percentage of missing values in Outcomes:\n",
      "Crime ID        0.000000\n",
      "Month           0.000000\n",
      "Reported by     0.000000\n",
      "Falls within    0.000000\n",
      "Longitude       2.142959\n",
      "Latitude        2.142959\n",
      "Location        0.000000\n",
      "LSOA code       2.143363\n",
      "LSOA name       2.143363\n",
      "Outcome type    0.000000\n",
      "dtype: float64\n"
     ]
    }
   ],
   "source": [
    "# Missing Data\n",
    "# in outcomes\n",
    "\n",
    "# no. rows\n",
    "total_values_outcomes = outcomes.count().compute()\n",
    "\n",
    "# no. missing values in each col.\n",
    "missing_values_outcomes = outcomes.isnull().sum().compute()\n",
    "\n",
    "# % missing in each col.\n",
    "percentage_missing_outcomes = (missing_values_outcomes / total_values_outcomes) * 100\n",
    "\n",
    "# Print the statistics separately\n",
    "print(\"Total values in Outcomes:\")\n",
    "print(total_values_outcomes)\n",
    "\n",
    "print(\"\\nMissing values in Outcomes:\")\n",
    "print(missing_values_outcomes)\n",
    "\n",
    "print(\"\\nPercentage of missing values in Outcomes:\")\n",
    "print(percentage_missing_outcomes)"
   ]
  },
  {
   "cell_type": "code",
   "execution_count": 6,
   "id": "57c3d1fe",
   "metadata": {
    "scrolled": false
   },
   "outputs": [
    {
     "name": "stdout",
     "output_type": "stream",
     "text": [
      "Total values in Street:\n",
      "Crime ID                 47309040\n",
      "Month                    63386456\n",
      "Reported by              63386456\n",
      "Falls within             63386456\n",
      "Longitude                62277834\n",
      "Latitude                 62277834\n",
      "Location                 63386456\n",
      "LSOA code                60735981\n",
      "LSOA name                60735981\n",
      "Crime type               63386456\n",
      "Last outcome category    46349326\n",
      "Context                         0\n",
      "dtype: int64\n",
      "\n",
      "Missing values in Street:\n",
      "Crime ID                 16077416\n",
      "Month                           0\n",
      "Reported by                     0\n",
      "Falls within                    0\n",
      "Longitude                 1108622\n",
      "Latitude                  1108622\n",
      "Location                        0\n",
      "LSOA code                 2650475\n",
      "LSOA name                 2650475\n",
      "Crime type                      0\n",
      "Last outcome category    17037130\n",
      "Context                  63386456\n",
      "dtype: int64\n",
      "\n",
      "Percentage of missing values in Street:\n",
      "Crime ID                 33.983814\n",
      "Month                     0.000000\n",
      "Reported by               0.000000\n",
      "Falls within              0.000000\n",
      "Longitude                 1.780123\n",
      "Latitude                  1.780123\n",
      "Location                  0.000000\n",
      "LSOA code                 4.363929\n",
      "LSOA name                 4.363929\n",
      "Crime type                0.000000\n",
      "Last outcome category    36.758097\n",
      "Context                        inf\n",
      "dtype: float64\n"
     ]
    }
   ],
   "source": [
    "# Missing Data\n",
    "# in street\n",
    "\n",
    "# no. rows\n",
    "total_values_street = street.count().compute()\n",
    "\n",
    "# no. missing values in each col.\n",
    "missing_values_street = street.isnull().sum().compute()\n",
    "\n",
    "# % missing in each col.\n",
    "percentage_missing_street = (missing_values_street / total_values_street) * 100\n",
    "\n",
    "# Print the statistics separately\n",
    "print(\"Total values in Street:\")\n",
    "print(total_values_street)\n",
    "\n",
    "print(\"\\nMissing values in Street:\")\n",
    "print(missing_values_street)\n",
    "\n",
    "print(\"\\nPercentage of missing values in Street:\")\n",
    "print(percentage_missing_street)"
   ]
  },
  {
   "cell_type": "code",
   "execution_count": 7,
   "id": "f8c92158",
   "metadata": {},
   "outputs": [
    {
     "data": {
      "text/plain": [
       "Crime ID        string[pyarrow]\n",
       "Month           string[pyarrow]\n",
       "Reported by     string[pyarrow]\n",
       "Falls within    string[pyarrow]\n",
       "Longitude               float64\n",
       "Latitude                float64\n",
       "Location        string[pyarrow]\n",
       "LSOA code       string[pyarrow]\n",
       "LSOA name       string[pyarrow]\n",
       "Outcome type    string[pyarrow]\n",
       "dtype: object"
      ]
     },
     "execution_count": 7,
     "metadata": {},
     "output_type": "execute_result"
    }
   ],
   "source": [
    "# data types\n",
    "outcomes.dtypes"
   ]
  },
  {
   "cell_type": "code",
   "execution_count": 8,
   "id": "ba1f9e42",
   "metadata": {},
   "outputs": [
    {
     "data": {
      "text/plain": [
       "Crime ID                 string[pyarrow]\n",
       "Month                    string[pyarrow]\n",
       "Reported by              string[pyarrow]\n",
       "Falls within             string[pyarrow]\n",
       "Longitude                        float64\n",
       "Latitude                         float64\n",
       "Location                 string[pyarrow]\n",
       "LSOA code                string[pyarrow]\n",
       "LSOA name                string[pyarrow]\n",
       "Crime type               string[pyarrow]\n",
       "Last outcome category    string[pyarrow]\n",
       "Context                          float64\n",
       "dtype: object"
      ]
     },
     "execution_count": 8,
     "metadata": {},
     "output_type": "execute_result"
    }
   ],
   "source": [
    "street.dtypes"
   ]
  },
  {
   "cell_type": "code",
   "execution_count": 9,
   "id": "b761d726",
   "metadata": {
    "scrolled": true
   },
   "outputs": [
    {
     "name": "stdout",
     "output_type": "stream",
     "text": [
      "Relationship between crime type and missingness of LSOA name variable:\n",
      "col_0                            False   True \n",
      "row_0                                         \n",
      "Anti-social behaviour         14968191  623615\n",
      "Bicycle theft                   828072   29737\n",
      "Burglary                       3474643  117143\n",
      "Criminal damage and arson      5144303  276224\n",
      "Drugs                          1560810  114777\n",
      "Other crime                     887176   57757\n",
      "Other theft                    4695488  231000\n",
      "Possession of weapons           392008   20346\n",
      "Public order                   3795496  103414\n",
      "Robbery                         657352   23123\n",
      "Shoplifting                    3325493  141017\n",
      "Theft from the person           899605   33894\n",
      "Vehicle crime                  3873067  110890\n",
      "Violence and sexual offences  16234277  767538\n"
     ]
    }
   ],
   "source": [
    "# test if relationship exists between type of crime and missing values for LSOA name variable.\n",
    "region_LSOAname_missing = pd.crosstab(street['Crime type'], street['LSOA name'].isna())\n",
    "print(\"Relationship between crime type and missingness of LSOA name variable:\")\n",
    "print(region_LSOAname_missing)"
   ]
  },
  {
   "cell_type": "code",
   "execution_count": 10,
   "id": "34ae8ef9",
   "metadata": {},
   "outputs": [
    {
     "name": "stdout",
     "output_type": "stream",
     "text": [
      "Unique values in the 'outcome' column:\n",
      "0           Action to be taken by another organisation\n",
      "0                        Defendant sent to Crown Court\n",
      "0          Formal action is not in the public interest\n",
      "0                          Unable to prosecute suspect\n",
      "1              Suspect charged as part of another case\n",
      "0        Investigation complete; no suspect identified\n",
      "0                        Offender otherwise dealt with\n",
      "0                 Offender ordered to pay compensation\n",
      "1                    Offender given absolute discharge\n",
      "0                        Offender deprived of property\n",
      "0             Offender given suspended prison sentence\n",
      "0                 Offender given conditional discharge\n",
      "0                                       Offender fined\n",
      "0                    Offender given community sentence\n",
      "0                         Court case unable to proceed\n",
      "0            Offender given a drugs possession warning\n",
      "0         Further action is not in the public interest\n",
      "0                             Offender given a caution\n",
      "0                                     Local resolution\n",
      "0                        Offender given penalty notice\n",
      "0    Further investigation is not in the public int...\n",
      "0                                      Suspect charged\n",
      "0                              Offender sent to prison\n",
      "0                           Defendant found not guilty\n",
      "Name: Outcome type, dtype: object\n"
     ]
    }
   ],
   "source": [
    "unique_outcomes = outcomes['Outcome type'].unique().compute()\n",
    "\n",
    "print(\"Unique values in the 'outcome' column:\")\n",
    "print(unique_outcomes)"
   ]
  },
  {
   "cell_type": "code",
   "execution_count": 11,
   "id": "896c8608",
   "metadata": {},
   "outputs": [],
   "source": [
    "# Creating Data Frames\n",
    "outcomes2 = outcomes[['Month', 'Reported by', 'Falls within']]\n",
    "outcomes3 = outcomes[['Month', 'Reported by', 'Falls within', 'Longitude', 'Latitude']]\n",
    "street2 = street[['Month', 'Reported by', 'Falls within', 'Crime type']]\n",
    "street3 = street[['Month', 'Reported by', 'Falls within', 'Longitude', 'Latitude', 'Crime type']]"
   ]
  },
  {
   "cell_type": "code",
   "execution_count": 12,
   "id": "aded4c9f",
   "metadata": {},
   "outputs": [],
   "source": [
    "# Drop null from new\n",
    "outcomes3 = outcomes3.dropna(subset=['Longitude','Latitude'])\n",
    "street3 = street3.dropna(subset=['Longitude','Latitude'])"
   ]
  },
  {
   "cell_type": "code",
   "execution_count": 13,
   "id": "f240155e",
   "metadata": {},
   "outputs": [
    {
     "name": "stdout",
     "output_type": "stream",
     "text": [
      "Total values in Outcomes 3:\n",
      "Month           45261612\n",
      "Reported by     45261612\n",
      "Falls within    45261612\n",
      "Longitude       45261612\n",
      "Latitude        45261612\n",
      "dtype: int64\n",
      "\n",
      "Missing values in Outcomes 3:\n",
      "Month           0\n",
      "Reported by     0\n",
      "Falls within    0\n",
      "Longitude       0\n",
      "Latitude        0\n",
      "dtype: int64\n",
      "\n",
      "Percentage of missing values in Outcomes 3:\n",
      "Month           0.0\n",
      "Reported by     0.0\n",
      "Falls within    0.0\n",
      "Longitude       0.0\n",
      "Latitude        0.0\n",
      "dtype: float64\n"
     ]
    }
   ],
   "source": [
    "# Missing Data in new DFs\n",
    "# no. rows\n",
    "total_values_outcomes3 = outcomes3.count().compute()\n",
    "\n",
    "# no. missing values in each col.\n",
    "missing_values_outcomes3 = outcomes3.isnull().sum().compute()\n",
    "\n",
    "# % missing in each col.\n",
    "percentage_missing_outcomes3 = (missing_values_outcomes3 / total_values_outcomes3) * 100\n",
    "\n",
    "# Print the statistics separately\n",
    "print(\"Total values in Outcomes 3:\")\n",
    "print(total_values_outcomes3)\n",
    "\n",
    "print(\"\\nMissing values in Outcomes 3:\")\n",
    "print(missing_values_outcomes3)\n",
    "\n",
    "print(\"\\nPercentage of missing values in Outcomes 3:\")\n",
    "print(percentage_missing_outcomes3)"
   ]
  },
  {
   "cell_type": "code",
   "execution_count": 14,
   "id": "ab4f3a09",
   "metadata": {},
   "outputs": [
    {
     "name": "stdout",
     "output_type": "stream",
     "text": [
      "Total values in Streets 3:\n",
      "Month           62277834\n",
      "Reported by     62277834\n",
      "Falls within    62277834\n",
      "Longitude       62277834\n",
      "Latitude        62277834\n",
      "Crime type      62277834\n",
      "dtype: int64\n",
      "\n",
      "Missing values in Streets 3:\n",
      "Month           0\n",
      "Reported by     0\n",
      "Falls within    0\n",
      "Longitude       0\n",
      "Latitude        0\n",
      "Crime type      0\n",
      "dtype: int64\n",
      "\n",
      "Percentage of missing values in Streets 3:\n",
      "Month           0.0\n",
      "Reported by     0.0\n",
      "Falls within    0.0\n",
      "Longitude       0.0\n",
      "Latitude        0.0\n",
      "Crime type      0.0\n",
      "dtype: float64\n"
     ]
    }
   ],
   "source": [
    "# no. rows\n",
    "total_values_street3 = street3.count().compute()\n",
    "\n",
    "# no. missing values in each col.\n",
    "missing_values_street3 = street3.isnull().sum().compute()\n",
    "\n",
    "# % missing in each col.\n",
    "percentage_missing_street3 = (missing_values_street3 / total_values_street3) * 100\n",
    "\n",
    "# Print the statistics separately\n",
    "print(\"Total values in Streets 3:\")\n",
    "print(total_values_street3)\n",
    "\n",
    "print(\"\\nMissing values in Streets 3:\")\n",
    "print(missing_values_street3)\n",
    "\n",
    "print(\"\\nPercentage of missing values in Streets 3:\")\n",
    "print(percentage_missing_street3)"
   ]
  },
  {
   "cell_type": "code",
   "execution_count": 15,
   "id": "36da620c",
   "metadata": {
    "scrolled": true
   },
   "outputs": [],
   "source": [
    "# Split \"Month\" column into separate columns for year and month\n",
    "outcomes2[['Year', 'Month_Num']] = outcomes2['Month'].str.split('-', n=1, expand=True)\n",
    "outcomes3[['Year', 'Month_Num']] = outcomes3['Month'].str.split('-', n=1, expand=True)\n",
    "street2[['Year', 'Month_Num']] = street2['Month'].str.split('-', n=1, expand=True)\n",
    "street3[['Year', 'Month_Num']] = street3['Month'].str.split('-', n=1, expand=True)\n",
    "\n",
    "# Convert numeric month to month name\n",
    "def month_name(x):\n",
    "    return datetime.strptime(str(x), '%m').strftime('%B')\n",
    "\n",
    "outcomes2['Month_Name'] = outcomes2['Month_Num'].astype(int).apply(month_name, meta=('Month_Num', 'object'))\n",
    "outcomes3['Month_Name'] = outcomes3['Month_Num'].astype(int).apply(month_name, meta=('Month_Num', 'object'))\n",
    "street2['Month_Name'] = street2['Month_Num'].astype(int).apply(month_name, meta=('Month_Num', 'object'))\n",
    "street3['Month_Name'] = street3['Month_Num'].astype(int).apply(month_name, meta=('Month_Num', 'object'))\n",
    "\n",
    "# Drop the original \"Month\" and \"Month_Num\" columns\n",
    "outcomes2 = outcomes2.drop(['Month', 'Month_Num'], axis=1)\n",
    "outcomes3 = outcomes3.drop(['Month', 'Month_Num'], axis=1)\n",
    "street2 = street2.drop(['Month', 'Month_Num'], axis=1)\n",
    "street3 = street3.drop(['Month', 'Month_Num'], axis=1)"
   ]
  },
  {
   "cell_type": "code",
   "execution_count": 20,
   "id": "0b4a70bf",
   "metadata": {
    "scrolled": false
   },
   "outputs": [],
   "source": [
    "# save to csv\n",
    "\n",
    "#outcomes2.to_csv('C:\\\\Users\\\\jorda\\\\Desktop\\\\portfolio_projects\\\\outcomes2.csv', index=False)\n",
    "#outcomes3.to_csv('C:\\\\Users\\\\jorda\\\\Desktop\\\\portfolio_projects\\\\outcomes3.csv', index=False)\n",
    "#street2.to_csv('C:\\\\Users\\\\jorda\\\\Desktop\\\\portfolio_projects\\\\street2.csv', index=False)\n",
    "#street3.to_csv('C:\\\\Users\\\\jorda\\\\Desktop\\\\portfolio_projects\\\\street3.csv', index=False)\n",
    "\n",
    "#print(\"All DataFrames saved to CSV files.\")\n",
    "\n",
    "\n"
   ]
  },
  {
   "cell_type": "code",
   "execution_count": 19,
   "id": "892e8962",
   "metadata": {},
   "outputs": [],
   "source": [
    "# Specify the file paths where you want to save the Parquet files\n",
    "file_path1 = r'C:\\Users\\jorda\\Desktop\\portfolio_projects\\data_sets\\uk_crime\\outcomes2.parquet'\n",
    "file_path2 = r'C:\\Users\\jorda\\Desktop\\portfolio_projects\\data_sets\\uk_crime\\outcomes3.parquet'\n",
    "file_path3 = r'C:\\Users\\jorda\\Desktop\\portfolio_projects\\data_sets\\uk_crime\\street2.parquet'\n",
    "file_path4 = r'C:\\Users\\jorda\\Desktop\\portfolio_projects\\data_sets\\uk_crime\\street3.parquet'\n",
    "\n",
    "# Save each DataFrame as a single Parquet file\n",
    "outcomes2.to_parquet(file_path1, engine='pyarrow', compression='snappy')\n",
    "outcomes3.to_parquet(file_path2, engine='pyarrow', compression='snappy')\n",
    "street2.to_parquet(file_path3, engine='pyarrow', compression='snappy')\n",
    "street3.to_parquet(file_path4, engine='pyarrow', compression='snappy')\n"
   ]
  },
  {
   "cell_type": "code",
   "execution_count": 23,
   "id": "46068c23",
   "metadata": {},
   "outputs": [],
   "source": [
    "partitioned_dir1 = r'C:\\Users\\jorda\\Desktop\\portfolio_projects\\data_sets\\uk_crime\\outcomes2.parquet'\n",
    "\n",
    "# Read partitioned Parquet files into a single table\n",
    "table1 = pq.read_table(partitioned_dir1)\n",
    "\n",
    "# Write the combined table to a single Parquet file\n",
    "output_file1 = r'C:\\Users\\jorda\\Desktop\\portfolio_projects\\data_sets\\uk_crime\\combined_file1.parquet'\n",
    "pq.write_table(table1, output_file1)\n"
   ]
  },
  {
   "cell_type": "code",
   "execution_count": 25,
   "id": "a075d77a",
   "metadata": {},
   "outputs": [],
   "source": [
    "# Specify the directory containing partitioned Parquet files\n",
    "partitioned_dir2 = r'C:\\Users\\jorda\\Desktop\\portfolio_projects\\data_sets\\uk_crime\\outcomes3.parquet'\n",
    "\n",
    "# Read partitioned Parquet files into a single table\n",
    "table2 = pq.read_table(partitioned_dir2)\n",
    "\n",
    "# Write the combined table to a single Parquet file\n",
    "output_file2 = r'C:\\Users\\jorda\\Desktop\\portfolio_projects\\data_sets\\uk_crime\\combined_file2.parquet'\n",
    "pq.write_table(table2, output_file2)"
   ]
  },
  {
   "cell_type": "code",
   "execution_count": 27,
   "id": "b2bf0e0d",
   "metadata": {},
   "outputs": [],
   "source": [
    "# Specify the directory containing partitioned Parquet files\n",
    "partitioned_dir3 = r'C:\\Users\\jorda\\Desktop\\portfolio_projects\\data_sets\\uk_crime\\street2.parquet'\n",
    "\n",
    "# Read partitioned Parquet files into a single table\n",
    "table3 = pq.read_table(partitioned_dir3)\n",
    "\n",
    "# Write the combined table to a single Parquet file\n",
    "output_file3 = r'C:\\Users\\jorda\\Desktop\\portfolio_projects\\data_sets\\uk_crime\\combined_file3.parquet'\n",
    "pq.write_table(table3, output_file3)"
   ]
  },
  {
   "cell_type": "code",
   "execution_count": 2,
   "id": "069710cd",
   "metadata": {},
   "outputs": [],
   "source": [
    "# Specify the directory containing partitioned Parquet files\n",
    "partitioned_dir4 = r'C:\\Users\\jorda\\Desktop\\portfolio_projects\\data_sets\\uk_crime\\street3.parquet'\n",
    "\n",
    "# Read partitioned Parquet files into a single table\n",
    "table4 = pq.read_table(partitioned_dir4)\n",
    "\n",
    "# Write the combined table to a single Parquet file\n",
    "output_file4 = r'C:\\Users\\jorda\\Desktop\\portfolio_projects\\data_sets\\uk_crime\\combined_file4.parquet'\n",
    "pq.write_table(table4, output_file4)"
   ]
  },
  {
   "cell_type": "code",
   "execution_count": 6,
   "id": "1d823166",
   "metadata": {},
   "outputs": [],
   "source": [
    "import pandas as pd\n",
    "from sqlalchemy import create_engine\n",
    "\n",
    "# Read Parquet files into DataFrames\n",
    "df1 = pd.read_parquet(r'C:\\Users\\jorda\\Desktop\\portfolio_projects\\data_sets\\uk_crime\\combined_file1.parquet')\n",
    "df2 = pd.read_parquet(r'C:\\Users\\jorda\\Desktop\\portfolio_projects\\data_sets\\uk_crime\\combined_file2.parquet')\n",
    "df3 = pd.read_parquet(r'C:\\Users\\jorda\\Desktop\\portfolio_projects\\data_sets\\uk_crime\\combined_file3.parquet')\n",
    "df4 = pd.read_parquet(r'C:\\Users\\jorda\\Desktop\\portfolio_projects\\data_sets\\uk_crime\\combined_file4.parquet')"
   ]
  },
  {
   "cell_type": "code",
   "execution_count": 7,
   "id": "04deecac",
   "metadata": {},
   "outputs": [],
   "source": [
    "# Define a function to create table and insert data\n",
    "def create_table_and_insert_data(df, table_name):\n",
    "    # Generate SQL CREATE TABLE command based on DataFrame columns\n",
    "    create_table_sql = f\"CREATE TABLE {table_name} ({', '.join([f'{col} VARCHAR(MAX)' for col in df.columns])});\"\n",
    "    \n",
    "    # Execute the CREATE TABLE command\n",
    "    with engine.connect() as connection:\n",
    "        connection.execute(create_table_sql)\n",
    "\n",
    "    # Insert data into the table\n",
    "    df.to_sql(table_name, engine, if_exists='append', index=False)"
   ]
  },
  {
   "cell_type": "code",
   "execution_count": 11,
   "id": "266771a5",
   "metadata": {},
   "outputs": [
    {
     "name": "stdout",
     "output_type": "stream",
     "text": [
      "Data converted to CSV successfully.\n"
     ]
    }
   ],
   "source": [
    "# Read the combined Parquet file into a DataFrame\n",
    "df_combined1 = pd.read_parquet(r'C:\\Users\\jorda\\Desktop\\portfolio_projects\\data_sets\\uk_crime\\combined_file1.parquet')\n",
    "\n",
    "# Specify the output CSV file path\n",
    "output_csv_file1 = r'C:\\Users\\jorda\\Desktop\\portfolio_projects\\data_sets\\uk_crime\\combined_file1.csv'\n",
    "\n",
    "# Write the DataFrame to a CSV file\n",
    "df_combined1.to_csv(output_csv_file1, index=False)\n",
    "\n",
    "print(\"Data converted to CSV successfully.\")\n"
   ]
  },
  {
   "cell_type": "code",
   "execution_count": 12,
   "id": "0799251d",
   "metadata": {},
   "outputs": [
    {
     "name": "stdout",
     "output_type": "stream",
     "text": [
      "Data converted to CSV successfully.\n"
     ]
    }
   ],
   "source": [
    "# Read the combined Parquet file into a DataFrame\n",
    "df_combined2 = pd.read_parquet(r'C:\\Users\\jorda\\Desktop\\portfolio_projects\\data_sets\\uk_crime\\combined_file2.parquet')\n",
    "\n",
    "# Specify the output CSV file path\n",
    "output_csv_file2 = r'C:\\Users\\jorda\\Desktop\\portfolio_projects\\data_sets\\uk_crime\\combined_file2.csv'\n",
    "\n",
    "# Write the DataFrame to a CSV file\n",
    "df_combined2.to_csv(output_csv_file2, index=False)\n",
    "\n",
    "print(\"Data converted to CSV successfully.\")\n"
   ]
  },
  {
   "cell_type": "code",
   "execution_count": 3,
   "id": "82864df0",
   "metadata": {},
   "outputs": [
    {
     "name": "stdout",
     "output_type": "stream",
     "text": [
      "Data converted to CSV successfully.\n"
     ]
    }
   ],
   "source": [
    "# Read the combined Parquet file into a DataFrame\n",
    "df_combined3 = pd.read_parquet(r'C:\\Users\\jorda\\Desktop\\portfolio_projects\\data_sets\\uk_crime\\combined_file3.parquet')\n",
    "\n",
    "# Specify the output CSV file path\n",
    "output_csv_file3 = r'C:\\Users\\jorda\\Desktop\\portfolio_projects\\data_sets\\uk_crime\\combined_file3.csv'\n",
    "\n",
    "# Write the DataFrame to a CSV file\n",
    "df_combined3.to_csv(output_csv_file3, index=False)\n",
    "\n",
    "print(\"Data converted to CSV successfully.\")\n"
   ]
  },
  {
   "cell_type": "code",
   "execution_count": 4,
   "id": "3b371e9e",
   "metadata": {},
   "outputs": [
    {
     "name": "stdout",
     "output_type": "stream",
     "text": [
      "Data converted to CSV successfully.\n"
     ]
    }
   ],
   "source": [
    "# Read the combined Parquet file into a DataFrame\n",
    "df_combined4 = pd.read_parquet(r'C:\\Users\\jorda\\Desktop\\portfolio_projects\\data_sets\\uk_crime\\combined_file4.parquet')\n",
    "\n",
    "# Specify the output CSV file path\n",
    "output_csv_file4 = r'C:\\Users\\jorda\\Desktop\\portfolio_projects\\data_sets\\uk_crime\\combined_file4.csv'\n",
    "\n",
    "# Write the DataFrame to a CSV file\n",
    "df_combined4.to_csv(output_csv_file4, index=False)\n",
    "\n",
    "print(\"Data converted to CSV successfully.\")\n"
   ]
  },
  {
   "cell_type": "code",
   "execution_count": null,
   "id": "ad9af82f",
   "metadata": {},
   "outputs": [],
   "source": []
  }
 ],
 "metadata": {
  "kernelspec": {
   "display_name": "Python 3 (ipykernel)",
   "language": "python",
   "name": "python3"
  },
  "language_info": {
   "codemirror_mode": {
    "name": "ipython",
    "version": 3
   },
   "file_extension": ".py",
   "mimetype": "text/x-python",
   "name": "python",
   "nbconvert_exporter": "python",
   "pygments_lexer": "ipython3",
   "version": "3.9.12"
  }
 },
 "nbformat": 4,
 "nbformat_minor": 5
}
